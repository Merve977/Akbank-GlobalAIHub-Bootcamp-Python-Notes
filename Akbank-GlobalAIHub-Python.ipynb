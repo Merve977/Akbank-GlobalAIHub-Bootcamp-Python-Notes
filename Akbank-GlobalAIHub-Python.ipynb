{
  "nbformat": 4,
  "nbformat_minor": 0,
  "metadata": {
    "colab": {
      "provenance": [],
      "authorship_tag": "ABX9TyPUr3Oe0+dVxVAELywzwldy",
      "include_colab_link": true
    },
    "kernelspec": {
      "name": "python3",
      "display_name": "Python 3"
    },
    "language_info": {
      "name": "python"
    }
  },
  "cells": [
    {
      "cell_type": "markdown",
      "metadata": {
        "id": "view-in-github",
        "colab_type": "text"
      },
      "source": [
        "<a href=\"https://colab.research.google.com/github/Merve977/Akbank-GlobalAIHub-Bootcamp-Python-Notes/blob/main/Akbank-GlobalAIHub-Python.ipynb\" target=\"_parent\"><img src=\"https://colab.research.google.com/assets/colab-badge.svg\" alt=\"Open In Colab\"/></a>"
      ]
    },
    {
      "cell_type": "code",
      "execution_count": null,
      "metadata": {
        "id": "dlOqbRfwRXvd"
      },
      "outputs": [],
      "source": [
        "fav_number = 12\n",
        "if fav_number < 15:\n",
        "  print(\"My favourite number is less than 15!\")"
      ]
    },
    {
      "cell_type": "code",
      "source": [
        "help()   #to find out keywords in python"
      ],
      "metadata": {
        "id": "bNoGt7nTRjSB"
      },
      "execution_count": null,
      "outputs": []
    },
    {
      "cell_type": "code",
      "source": [
        "#variable defining\n",
        "pi = 3.14\n",
        "print(pi)"
      ],
      "metadata": {
        "id": "ndZz9r0kSOlP"
      },
      "execution_count": null,
      "outputs": []
    },
    {
      "cell_type": "code",
      "source": [
        "pi"
      ],
      "metadata": {
        "id": "BwCWnWk4T9bA"
      },
      "execution_count": null,
      "outputs": []
    },
    {
      "cell_type": "code",
      "source": [
        "pi = 3.14\n",
        "if pi < 3.15:\n",
        "  pi = pi + 0.1\n",
        "print(pi)"
      ],
      "metadata": {
        "id": "bUwSjAo4UIUL"
      },
      "execution_count": null,
      "outputs": []
    },
    {
      "cell_type": "code",
      "source": [
        "def greetings(name):\n",
        "  print(f\"Hello {name}\")\n",
        "\n",
        "greetings(\"merve\")"
      ],
      "metadata": {
        "id": "koFi1motUt_t"
      },
      "execution_count": null,
      "outputs": []
    },
    {
      "cell_type": "code",
      "source": [
        "#COMMENTS\n",
        "\"\"\"defrgt\n",
        "wdefrgt\n",
        "wdefrgt\"\"\"\n",
        "\n",
        "print(\"Hello World\")"
      ],
      "metadata": {
        "id": "UTRnAj6AVPvY"
      },
      "execution_count": null,
      "outputs": []
    },
    {
      "cell_type": "code",
      "source": [
        "#LISTS\n",
        "store_items = [\"Apple\", 1.49, \"Banana\", 42, 13.6, \"Cherry\", 1.99, \"Chess\", \"Grape\"]\n",
        "print(store_items)\n",
        "print(type(store_items))\n",
        "print(store_items, type(store_items))"
      ],
      "metadata": {
        "id": "f1IRUlpiVUU7"
      },
      "execution_count": null,
      "outputs": []
    },
    {
      "cell_type": "code",
      "source": [
        "print(store_items[2])"
      ],
      "metadata": {
        "id": "HxT6VSx9a_Wd"
      },
      "execution_count": null,
      "outputs": []
    },
    {
      "cell_type": "code",
      "source": [
        "store_items[2] = 'Chocolate'\n",
        "print(store_items)"
      ],
      "metadata": {
        "id": "4kS5kWU2bOVH"
      },
      "execution_count": null,
      "outputs": []
    },
    {
      "cell_type": "code",
      "source": [
        "store_items[0] = 111\n",
        "print(store_items)"
      ],
      "metadata": {
        "id": "_46Whz62b13m"
      },
      "execution_count": null,
      "outputs": []
    },
    {
      "cell_type": "code",
      "source": [
        "age = 25\n",
        "print(age, type(age))"
      ],
      "metadata": {
        "id": "_CFY-noicFEs"
      },
      "execution_count": null,
      "outputs": []
    },
    {
      "cell_type": "code",
      "source": [
        "age += 0.52\n",
        "print(age, type(age))"
      ],
      "metadata": {
        "id": "QOSoYs8AcjuK"
      },
      "execution_count": null,
      "outputs": []
    },
    {
      "cell_type": "code",
      "source": [
        "my_age = \"30\"\n",
        "my_age = int(my_age)\n",
        "print(type(my_age))"
      ],
      "metadata": {
        "id": "hVAfqIRvcpzp"
      },
      "execution_count": null,
      "outputs": []
    },
    {
      "cell_type": "code",
      "source": [
        "name = \"Merve\"\n",
        "print('Hello', name, \"'\")"
      ],
      "metadata": {
        "id": "9fXEkN0BeNLf"
      },
      "execution_count": null,
      "outputs": []
    },
    {
      "cell_type": "code",
      "source": [
        "name = input(\"Your name please: \")\n",
        "print(\"Greetings, \", name)"
      ],
      "metadata": {
        "id": "h0Wya5_0hIJp"
      },
      "execution_count": null,
      "outputs": []
    },
    {
      "cell_type": "code",
      "source": [
        "number = int(input('Number: '))\n",
        "print(number + 10)"
      ],
      "metadata": {
        "id": "qCH-KowIiQuW"
      },
      "execution_count": null,
      "outputs": []
    },
    {
      "cell_type": "code",
      "source": [
        "#IMPORTING\n",
        "import math\n",
        "\n",
        "number = math.floor(4.621)\n",
        "print(number, type(number))"
      ],
      "metadata": {
        "id": "nGqbHSXqi81r"
      },
      "execution_count": null,
      "outputs": []
    },
    {
      "cell_type": "code",
      "source": [
        "import datetime\n",
        "\n",
        "print(datetime.datetime.now())"
      ],
      "metadata": {
        "id": "wRonuW0FmhMO"
      },
      "execution_count": null,
      "outputs": []
    },
    {
      "cell_type": "code",
      "source": [
        "import random\n",
        "\n",
        "print(random.randint(1, 6))"
      ],
      "metadata": {
        "id": "LGapJx8rn-zZ"
      },
      "execution_count": null,
      "outputs": []
    },
    {
      "cell_type": "code",
      "source": [
        "#ARITHMETIC OPERATORS\n",
        "print(2 + 5)\n",
        "print(2 - 5)\n",
        "print(2 * 5)\n",
        "print(2 / 5)\n",
        "print(2 ** 5)\n",
        "print(2 % 5)\n",
        "\n",
        "print(5 / 2)\n",
        "print(5 // 2)\n",
        "print(5 % 2)"
      ],
      "metadata": {
        "id": "1V8Nd5dVoPFQ"
      },
      "execution_count": null,
      "outputs": []
    },
    {
      "cell_type": "code",
      "source": [
        "#ASSIGNMENT OPERATORS\n",
        "x = 5\n",
        "x += 5\n",
        "print(x)"
      ],
      "metadata": {
        "id": "qzAd18WEqB8n"
      },
      "execution_count": null,
      "outputs": []
    },
    {
      "cell_type": "code",
      "source": [
        "#COMPARISON OPERATORS\n",
        "num1 = 10\n",
        "num2 = 5\n",
        "print(num1, \">\", num2, \"= \", num1>num2)\n",
        "print(num1, \">=\", num2, \"= \", num1>=num2)\n",
        "print(num1, \"<\", num2, \"= \", num1<num2)\n",
        "print(num1, \"<=\", num2, \"= \", num1<=num2)\n",
        "print(num1, \"==\", num2, \"=\", num1==num2)\n",
        "print(num1, \"!=\", num2, \"= \", num1!=num2)"
      ],
      "metadata": {
        "id": "bQk2mgsXsjVL"
      },
      "execution_count": null,
      "outputs": []
    },
    {
      "cell_type": "code",
      "source": [
        "#LOGICAL OPERATORS : AND-OR-NOT\n",
        "print(\"True and True= \", True and True)\n",
        "print(\"True and False= \", True and False)\n",
        "print(\"False and True= \", False and True)\n",
        "print(\"False and False= \", False and False)\n",
        "print()\n",
        "print(\"True and True and False= \", True and True and False)"
      ],
      "metadata": {
        "id": "3HQrqdT3s3HU"
      },
      "execution_count": null,
      "outputs": []
    },
    {
      "cell_type": "code",
      "source": [
        "print(True or True)\n",
        "print(True or False)\n",
        "print(False or True)\n",
        "print(False or False)"
      ],
      "metadata": {
        "id": "xs3ACuavwEe6"
      },
      "execution_count": null,
      "outputs": []
    },
    {
      "cell_type": "code",
      "source": [
        "print(\"not True=\", not True)\n",
        "print(\"not False=\", not False)"
      ],
      "metadata": {
        "id": "uQr03kyDwzFT"
      },
      "execution_count": null,
      "outputs": []
    },
    {
      "cell_type": "code",
      "source": [
        "name = \"Deniz\"\n",
        "a = 3\n",
        "print(name * 3)"
      ],
      "metadata": {
        "id": "tuamPlcFxL7Q"
      },
      "execution_count": null,
      "outputs": []
    },
    {
      "cell_type": "code",
      "source": [
        "#FOR LOOP\n",
        "volcano_name = 'Eyjafjallajökull'\n",
        "for i in volcano_name:\n",
        "  print(i)\n",
        "print(\"Loop is completed!\")"
      ],
      "metadata": {
        "id": "UR_HjSmQAcwV"
      },
      "execution_count": null,
      "outputs": []
    },
    {
      "cell_type": "code",
      "source": [
        "numbers = [1,2,3,4,5,6,7,8,9]\n",
        "for i in numbers:\n",
        "  print(i)"
      ],
      "metadata": {
        "id": "US617V3hu0YC"
      },
      "execution_count": null,
      "outputs": []
    },
    {
      "cell_type": "code",
      "source": [
        "for i in range(10):\n",
        "  print(i)"
      ],
      "metadata": {
        "id": "CGgj10FtvE_A"
      },
      "execution_count": null,
      "outputs": []
    },
    {
      "cell_type": "code",
      "source": [
        "for i in range(5,21):\n",
        "  print(i)"
      ],
      "metadata": {
        "id": "9ZhBC-hHvoOJ"
      },
      "execution_count": null,
      "outputs": []
    },
    {
      "cell_type": "code",
      "source": [
        "for i in range(1,101):\n",
        "  if i % 5 == 0:\n",
        "    print(i)"
      ],
      "metadata": {
        "id": "uOms5tq2vrit"
      },
      "execution_count": null,
      "outputs": []
    },
    {
      "cell_type": "code",
      "source": [
        "#WHILE LOOP\n",
        "import time\n",
        "celcius = 10\n",
        "\n",
        "while celcius < 50:\n",
        "  if celcius > 30:\n",
        "    print(\"Hot\")\n",
        "  elif 30 >= celcius > 20:\n",
        "    print(\"Good\")\n",
        "  elif -273 < celcius <= 20:\n",
        "    print(\"Cold\")\n",
        "  print(\"The current temperature is\", celcius)\n",
        "  celcius += 5\n",
        "  time.sleep(1)   #wait 1 sec to wait"
      ],
      "metadata": {
        "id": "8iitVeRDv-Mc"
      },
      "execution_count": null,
      "outputs": []
    },
    {
      "cell_type": "code",
      "source": [
        "#INFINITE LOOPS\n",
        "import time\n",
        "\n",
        "counter = 0\n",
        "while counter >= 0 :\n",
        "  print(counter)\n",
        "  counter  += 1\n",
        "  time.sleep(1) "
      ],
      "metadata": {
        "id": "C1wGknxaCzTG"
      },
      "execution_count": null,
      "outputs": []
    },
    {
      "cell_type": "code",
      "source": [
        "import random\n",
        "import time\n",
        "\n",
        "while True:\n",
        "  lucky_number = random.randrange(100)\n",
        "  print(lucky_number)\n",
        "  if lucky_number == 77:\n",
        "    print(\"Found!\")\n",
        "    break\n",
        "\n",
        "  time.sleep(0.5)"
      ],
      "metadata": {
        "id": "Yo7zo1DFEchT"
      },
      "execution_count": null,
      "outputs": []
    },
    {
      "cell_type": "code",
      "source": [
        "names = [\"Max\", \"Felix\", \"Denis\", \"John\", 26, \"Mary\" ,\"Jenna\"]\n",
        "for name in names:\n",
        "  if type(name) != str:\n",
        "    print(\"Found,\", name)\n",
        "    break\n",
        "  else:\n",
        "    print(name, \"is a string.\")"
      ],
      "metadata": {
        "id": "hIbUJReSFTNJ"
      },
      "execution_count": null,
      "outputs": []
    },
    {
      "cell_type": "code",
      "source": [
        "#FUNCTIONS\n",
        "def sum(number1, number2):\n",
        "  print(number1 + number2)\n",
        "\n",
        "sum(12, 6)"
      ],
      "metadata": {
        "id": "5Kf5NNA-HVNc"
      },
      "execution_count": null,
      "outputs": []
    },
    {
      "cell_type": "code",
      "source": [
        "result = sum(1,4)   #because the sun function does not return anything\n",
        "print(result)"
      ],
      "metadata": {
        "id": "2zmb-iD3dLRu"
      },
      "execution_count": null,
      "outputs": []
    },
    {
      "cell_type": "code",
      "source": [
        "#Scope concepts \n",
        "def greetings(first_name, last_name, auto_correction):\n",
        "  if auto_correction == True:\n",
        "    capitalized_first_name = first_name.capitalize()\n",
        "    capitalized_last_name = last_name.capitalize()\n",
        "    print(\"Hello,\", capitalized_first_name, capitalized_last_name)\n",
        "  else:\n",
        "    print(\"Hello,\", first_name, last_name)\n",
        "\n",
        "greetings(\"meRVe\", \"PoLAt\", True)\n",
        "greetings(\"meRVe\", \"PoLAt\", False)"
      ],
      "metadata": {
        "id": "FM3ecI3hdpxP"
      },
      "execution_count": null,
      "outputs": []
    },
    {
      "cell_type": "code",
      "source": [
        "#DEFAULT ARGUMENTS\n",
        "def greetings(first_name, last_name, auto_correction=True):\n",
        "  if auto_correction == True:\n",
        "    capitalized_first_name = first_name.capitalize()\n",
        "    capitalized_last_name = last_name.capitalize()\n",
        "    print(\"Hello,\", capitalized_first_name, capitalized_last_name)\n",
        "  else:\n",
        "    print(\"Hello,\", first_name, last_name)\n",
        "\n",
        "#default argument\n",
        "greetings(\"deNİZ\",\"POLAT\")\n",
        "\n",
        "#non-default argument\n",
        "greetings(\"deNİZ\",\"POLAT\", False)"
      ],
      "metadata": {
        "id": "3BTqdqS9hyOQ"
      },
      "execution_count": null,
      "outputs": []
    },
    {
      "cell_type": "code",
      "source": [
        "#KEYWORD ARGUMENTS vs POSITIONAL ARGUMENTS\n",
        "def car(brand, model, color):\n",
        "  print(\"My favourite car is the\", brand, model, \"in the color\", color)\n",
        "\n",
        "#keyword argument\n",
        "car(\"Audi\", \"R8\", \"black\")\n",
        "\n",
        "#positional argument\n",
        "car(color=\"gray\", model=\"R8\", brand=\"Audi\")"
      ],
      "metadata": {
        "id": "M2uNAETMjAEa"
      },
      "execution_count": null,
      "outputs": []
    },
    {
      "cell_type": "code",
      "source": [
        "car(brand=\"Audi\", model=\"R8\", \"brown\")"
      ],
      "metadata": {
        "id": "GdLNGr3kmZVG"
      },
      "execution_count": null,
      "outputs": []
    },
    {
      "cell_type": "code",
      "source": [
        "#SCOPE: GLOBAL - LOCAL\n",
        "#global variable\n",
        "number = 13 \n",
        "\n",
        "def change_number():\n",
        "  #local variable\n",
        "  number = 4   \n",
        "\n",
        "change_number()\n",
        "print(number)"
      ],
      "metadata": {
        "id": "IczcCpt0noaa"
      },
      "execution_count": null,
      "outputs": []
    },
    {
      "cell_type": "code",
      "source": [
        "#SCOPE: GLOBAL - LOCAL\n",
        "#global variable\n",
        "#number1 = 13 \n",
        "\n",
        "def change_number():\n",
        "  number1 = 4\n",
        "\n",
        "change_number()\n",
        "print(number1)"
      ],
      "metadata": {
        "id": "IW3Vf1BHsMKX"
      },
      "execution_count": null,
      "outputs": []
    },
    {
      "cell_type": "code",
      "source": [
        "#if a variable is defined as global in the function, it become global for entire program\n",
        "my_number = 13\n",
        "\n",
        "def change_number():\n",
        "  global my_number\n",
        "  my_number = 4\n",
        "\n",
        "change_number()\n",
        "print(my_number)"
      ],
      "metadata": {
        "id": "b_623i-9srxG"
      },
      "execution_count": null,
      "outputs": []
    },
    {
      "cell_type": "code",
      "source": [
        "#MODULES IN PYTHON\n",
        "#first we have to import our module\n",
        "import test\n",
        "\n",
        "test.greetings('Merve')\n",
        "test.greetings('Deniz')"
      ],
      "metadata": {
        "id": "kogpgtVCVLnB"
      },
      "execution_count": null,
      "outputs": []
    },
    {
      "cell_type": "code",
      "source": [
        "\"\"\"LIBRARİES: Collection of modules in a language\n",
        "SEABORN LIBRARY: Allows us create statistical graphics. Used commonly in data \n",
        "visualization\n",
        "->first install the library\n",
        "!pip install seaborn\n",
        "\"\"\"\n",
        "\n",
        "!pip install seaborn"
      ],
      "metadata": {
        "id": "gDmbDPMyXmqX"
      },
      "execution_count": null,
      "outputs": []
    },
    {
      "cell_type": "code",
      "source": [
        "#now we can import seaborn. sns is an alias that we'll use instead of seaborn\n",
        "import seaborn as sns\n"
      ],
      "metadata": {
        "id": "rZ_FQgf2YkF0"
      },
      "execution_count": null,
      "outputs": []
    },
    {
      "cell_type": "code",
      "source": [
        "data = [1, 2, 10, 3, 5, 6, 13]  #tihs numbers are our Y-coordinates"
      ],
      "metadata": {
        "id": "zl7vnXddY-MI"
      },
      "execution_count": null,
      "outputs": []
    },
    {
      "cell_type": "code",
      "source": [
        "#create a line plot using seaborn\n",
        "#in order to plot a line, we need X-coordinates, instead of creating a new list-> range(7)can be used\n",
        "#range(7) = numbers from 0 to 6\n",
        "sns.lineplot(range(7), data)"
      ],
      "metadata": {
        "id": "NeONnsC5ZPBW"
      },
      "execution_count": null,
      "outputs": []
    },
    {
      "cell_type": "code",
      "source": [
        "#DATA STRUCTURES: LIST-TUPLE-SET-DICTIONARY\n",
        "#LISTS\n",
        "shopping_list = [\"Apple\", \"Juice\", \"Ball\", \"Book\"]\n",
        "print(shopping_list)"
      ],
      "metadata": {
        "id": "g9Us7MwMaE5y"
      },
      "execution_count": null,
      "outputs": []
    },
    {
      "cell_type": "code",
      "source": [
        "#BUILT-IN METHODS FOR LISTS\n",
        "#1)append : append a new element to the end of the list\n",
        "shopping_list.append(\"Tomato\")\n",
        "print(shopping_list)"
      ],
      "metadata": {
        "id": "ZBJv46sPBXey"
      },
      "execution_count": null,
      "outputs": []
    },
    {
      "cell_type": "code",
      "source": [
        "shopping_list.append(\"Honey\")\n",
        "print(shopping_list)"
      ],
      "metadata": {
        "id": "OZBKJ43hBxqu"
      },
      "execution_count": null,
      "outputs": []
    },
    {
      "cell_type": "code",
      "source": [
        "#2)insert : Insert elements according the position(index) given\n",
        "#In order to add \"Banana\" to the 3rd position, which is index=2\n",
        "print(\"Our list at the beginning:\", shopping_list)\n",
        "\n",
        "shopping_list.insert(2, \"Banana\")\n",
        "print(\"After inserting: \", shopping_list)"
      ],
      "metadata": {
        "id": "gA7nD_3uB8Vw"
      },
      "execution_count": null,
      "outputs": []
    },
    {
      "cell_type": "code",
      "source": [
        "#REMOVE METHODS\n",
        "#1)remove: you have to enter the exact element's name\n",
        "\n",
        "print(shopping_list)\n",
        "shopping_list.remove(\"Banana\")\n",
        "print(shopping_list)"
      ],
      "metadata": {
        "id": "1ltqI901DjSi"
      },
      "execution_count": null,
      "outputs": []
    },
    {
      "cell_type": "code",
      "source": [
        "#EXCHANGE AN ELEMENT WITH ANOTHER\n",
        "#list_name[element_position]  = new_value\n",
        "print(\"Our list:\", shopping_list)\n",
        "shopping_list[3] = \"Water\"\n",
        "print(\"Updated list:\", shopping_list)"
      ],
      "metadata": {
        "id": "_W9VOhRBEMo1"
      },
      "execution_count": null,
      "outputs": []
    },
    {
      "cell_type": "code",
      "source": [
        "#Example: Obtain a square list based on the given list's element\n",
        "\n",
        "list = [1, 2, 3, 4, 5, 6, 7, 8, 9]\n",
        "square_list = []\n",
        "\n",
        "for e in list:\n",
        "  square_list.append(e**2)\n",
        "\n",
        "print(square_list)"
      ],
      "metadata": {
        "id": "7Jg7yHuoFHY9"
      },
      "execution_count": null,
      "outputs": []
    },
    {
      "cell_type": "code",
      "source": [
        "#LIST COPMREHENSION\n",
        "#We can solve the probelm with list comprehension more easily and efficiently\n",
        "list = [1, 2, 3, 4, 5, 6, 7, 8, 9]\n",
        "new_list = [num**2 for num in list]\n",
        "print(new_list)"
      ],
      "metadata": {
        "id": "ZdL4Imq1FkVj"
      },
      "execution_count": null,
      "outputs": []
    },
    {
      "cell_type": "code",
      "source": [
        "\"\"\"DATA STRUCTURES: TUPLES\n",
        "Lists are MUTABLE : adding, deleting and editing/changing elements are alowed.\n",
        "Tuples are IMMUTABLE: adding, deleting and editing/changing elements are NOT alowed!\n",
        "\"\"\""
      ],
      "metadata": {
        "id": "FICpmgqWHc_V"
      },
      "execution_count": null,
      "outputs": []
    },
    {
      "cell_type": "code",
      "source": [
        "#Creating tuples\n",
        "my_tuple = (\"Merve\", \"Nur\", \"Deniz\", \"Aleyna\", \"Zeynep\")\n",
        "print(my_tuple, type(my_tuple))\n"
      ],
      "metadata": {
        "id": "lfzHTeGAHSVl"
      },
      "execution_count": null,
      "outputs": []
    },
    {
      "cell_type": "code",
      "source": [
        "#UNPACKING A TUPLE\n",
        "cities = (\"Ankara\", \"Istanbul\", \"Bursa\") \n",
        "item1, item2, item3 = cities\n",
        "print(item1)\n",
        "print(item2)\n",
        "print(item3)"
      ],
      "metadata": {
        "id": "lOWEOUAKIZ-k"
      },
      "execution_count": null,
      "outputs": []
    },
    {
      "cell_type": "code",
      "source": [
        "#REACH LIST ITEMS\n",
        "print(cities) \n",
        "print(cities[1])"
      ],
      "metadata": {
        "id": "kmSLwwQzJ3cz"
      },
      "execution_count": null,
      "outputs": []
    },
    {
      "cell_type": "code",
      "source": [
        "#TUPLE SLICING\n",
        "cities = (\"Ankara\", \"Istanbul\", \"Bursa\", \"Adana\", \"Samsun\", \"Mardin\", \"Kocaeli\", \"Yozgat\")\n",
        "print(cities[2:6])"
      ],
      "metadata": {
        "id": "wdEsriB-NQbS"
      },
      "execution_count": null,
      "outputs": []
    },
    {
      "cell_type": "code",
      "source": [
        "#changing a list elements will give error\n",
        "fruits = (\"Apple\",\"Banana\",\" Cherry\", \"Grape\",\" Watermelon\", \"Orange\")\n",
        "fruits[4] = \"Melon\"\n",
        "print(fruits)"
      ],
      "metadata": {
        "id": "yi19UMdVNnjP"
      },
      "execution_count": null,
      "outputs": []
    },
    {
      "cell_type": "code",
      "source": [
        "\"\"\"The main difference between tuple and lists is mutablity.\n",
        "Both of them can store different types of data\"\"\""
      ],
      "metadata": {
        "id": "aZM-8M5wN-SK"
      },
      "execution_count": null,
      "outputs": []
    },
    {
      "cell_type": "code",
      "source": [
        "#DATA STRUCTURES- Dictionaries\n",
        "#key-value pair\n",
        "phone_book = {'Merve Polat': '05525894534', 'Deniz Polat': '+905523415639', 'Zeynep Demirci': '05637128900'}\n",
        "print(phone_book)\n",
        "print(type(phone_book))"
      ],
      "metadata": {
        "id": "8Id_iQ2AOX5z"
      },
      "execution_count": null,
      "outputs": []
    },
    {
      "cell_type": "code",
      "source": [
        "'''key comes first and value comes second\n",
        "   key can be an integer or string\n",
        "   a keY must be UNIQUE\n",
        "   to accesss a value-> dict_name[key_name]\n",
        "'''\n",
        "#access an element\n",
        "myself = {'name': 'Merve', 'surname': 'Polat', 'age':22, 'occupation':'Software Engineer'}\n",
        "print(myself['occupation'])"
      ],
      "metadata": {
        "id": "YMMvz1xMP8mH"
      },
      "execution_count": null,
      "outputs": []
    },
    {
      "cell_type": "code",
      "source": [
        "#Creating an epmty dictionary : dict()\n",
        "inventory = dict()\n",
        "print(inventory)\n",
        "\n",
        "\n",
        "#adding elements one by one\n",
        "inventory[\"Banana\"] = 125\n",
        "inventory[\"Apple\"] = 20\n",
        "inventory[\"Melon\"] = 4\n",
        "inventory[\"Mango\"] = 23\n",
        "\n",
        "print(inventory)"
      ],
      "metadata": {
        "id": "sImWQktURcdn"
      },
      "execution_count": null,
      "outputs": []
    },
    {
      "cell_type": "code",
      "source": [
        "#Showing KEYS and VALUES seperately : keys() - values() methods\n",
        "# {'Banana': 25, 'Apple': 20, 'Melon': 4, 'Mango': 23}\n",
        "\n",
        "print(inventory.keys())\n",
        "print(inventory.values())"
      ],
      "metadata": {
        "id": "iovPJmfdTJ9o"
      },
      "execution_count": null,
      "outputs": []
    },
    {
      "cell_type": "code",
      "source": [
        "#items() method: returns the key-value pairs as a ilst of tuples\n",
        "print(inventory.items())"
      ],
      "metadata": {
        "id": "X_lZNqJmTvZz"
      },
      "execution_count": null,
      "outputs": []
    },
    {
      "cell_type": "code",
      "source": [
        "#iterating dictionary items thanks to for loop \n",
        "#ATTENTION: Only keys of dictionary will be printed!!!\n",
        "\n",
        "for item in inventory:\n",
        "  print(item)"
      ],
      "metadata": {
        "id": "G6SwfrPzXeFb"
      },
      "execution_count": null,
      "outputs": []
    },
    {
      "cell_type": "code",
      "source": [
        "#Example:Here is our dictionary {'Banana': 25, 'Apple': 20, 'Melon': 4, 'Mango': 23}. Increase the stock of each item by 100 using for loop\n",
        "\n",
        "for key in inventory:\n",
        "  inventory[key] += 100\n",
        "print(inventory)"
      ],
      "metadata": {
        "id": "pFUQ53lNXsuW"
      },
      "execution_count": null,
      "outputs": []
    },
    {
      "cell_type": "code",
      "source": [
        "#Example: let's print too many for stocks if it exceeds 200, and enough for the one equal and less than 200\n",
        "#{'Banana': 25, 'Apple': 20, 'Melon': 4, 'Mango': 23}\n",
        "#we will use items() method in for loop so that we can get both keys and values at the same time.\n",
        "\n",
        "for key, value in inventory.items():\n",
        "  if value > 200:\n",
        "    print(\"Too many\", key)\n",
        "  else:\n",
        "    print(\"Enough\", value)"
      ],
      "metadata": {
        "id": "55h0MM2MYtG0"
      },
      "execution_count": null,
      "outputs": []
    },
    {
      "cell_type": "code",
      "source": [
        "merve = {}\n",
        "print(type(merve))"
      ],
      "metadata": {
        "id": "1VTf4JhIaJM4"
      },
      "execution_count": null,
      "outputs": []
    },
    {
      "cell_type": "code",
      "source": [
        "series = range(5)\n",
        "print(series, type(series))"
      ],
      "metadata": {
        "id": "q_rn6-ojqX31"
      },
      "execution_count": null,
      "outputs": []
    },
    {
      "cell_type": "code",
      "source": [
        " "
      ],
      "metadata": {
        "id": "SE_AjjG5qvPt"
      },
      "execution_count": null,
      "outputs": []
    },
    {
      "cell_type": "code",
      "source": [
        " "
      ],
      "metadata": {
        "id": "Cdh07w1TuHjd"
      },
      "execution_count": null,
      "outputs": []
    },
    {
      "cell_type": "code",
      "source": [
        "#FILE OPERATIONS\n",
        "%cd /content/file_operations"
      ],
      "metadata": {
        "id": "Bi_xs5iuuIIA"
      },
      "execution_count": null,
      "outputs": []
    },
    {
      "cell_type": "code",
      "source": [
        "#open()\n",
        "message_file = open(\"/content/file_operations/message.txt\")"
      ],
      "metadata": {
        "id": "uoxtVO0juQdF"
      },
      "execution_count": null,
      "outputs": []
    },
    {
      "cell_type": "code",
      "source": [
        "#READ MODE\n",
        "message_file = open(\"/content/file_operations/message.txt\", \"r\")\n",
        "content = message_file.read()\n",
        "message_file.close()"
      ],
      "metadata": {
        "id": "psoGcuP852c4"
      },
      "execution_count": null,
      "outputs": []
    },
    {
      "cell_type": "code",
      "source": [
        "print(content)"
      ],
      "metadata": {
        "id": "wV4r9pVe7ziK"
      },
      "execution_count": null,
      "outputs": []
    },
    {
      "cell_type": "code",
      "source": [
        "#WRITE MOOD\n",
        "#write mode creates a new file if it does not exist\n",
        "hello_file = open(\"hello.txt\", \"w\")"
      ],
      "metadata": {
        "id": "tAIj13UU8GaM"
      },
      "execution_count": null,
      "outputs": []
    },
    {
      "cell_type": "code",
      "source": [
        "hello_file.write(\"This file is created by write method. This is python file operations.\")\n",
        "hello_file.close()"
      ],
      "metadata": {
        "id": "suS2iId29q2m"
      },
      "execution_count": null,
      "outputs": []
    },
    {
      "cell_type": "code",
      "source": [
        "read_from_hello = open(\"hello.txt\", \"r\")\n",
        "text = read_from_hello.read()\n",
        "read_from_hello.close()\n",
        "\n",
        "print(text)"
      ],
      "metadata": {
        "id": "ilqWo0rr-mwv"
      },
      "execution_count": null,
      "outputs": []
    },
    {
      "cell_type": "code",
      "source": [
        "#Example: Write a program that stops until find 77 in range(100) and write all the processes into a file\n",
        "import random \n",
        "\n",
        "numbers_file = open(\"history.txt\", \"w\")\n",
        "while True:\n",
        "  random_number = random.randrange(100)\n",
        "  print(random_number)\n",
        "\n",
        "  numbers_file.write(str(random_number))\n",
        "  numbers_file.write('\\n')\n",
        "  if random_number == 77:\n",
        "    print('Found!')\n",
        "    numbers_file.write('Found!')\n",
        "    numbers_file.close()\n",
        "    break\n"
      ],
      "metadata": {
        "id": "pEpnRLwk-9HA"
      },
      "execution_count": null,
      "outputs": []
    },
    {
      "cell_type": "code",
      "source": [],
      "metadata": {
        "id": "PDFKRRslCa_l"
      },
      "execution_count": null,
      "outputs": []
    },
    {
      "cell_type": "code",
      "source": [
        "#WITH: If we use file operations, it is essential to close it. There are more practical way with \"with\" keyword\n",
        "#when we using with, we don't need to close the file.\n",
        "\n",
        "#numbers_file = open(\"deneme.txt\", \"w\")\n",
        "#with open(\"deneme.txt\", \"w\") as numbers_file"
      ],
      "metadata": {
        "id": "vOq0hKBxCwWd"
      },
      "execution_count": null,
      "outputs": []
    },
    {
      "cell_type": "code",
      "source": [
        "#ERROR HANDLING\n",
        "#They occur not because of syntax errors, but exceptions.\n",
        "#We encounter them while program is \"running\".\n",
        "#We can handle them by error handling\n",
        "\n",
        "def divide(first_number, second_number):\n",
        "  try:\n",
        "    num1 = int(first_number)\n",
        "    num2 = int(second_number)\n",
        "    return num1/num2\n",
        "  except:\n",
        "    return \"Invalid types!\"\n",
        "\n",
        "first_number = input(\"Enter a number: \")\n",
        "second_number = input(\"Enter another one: \")\n",
        "\n",
        "print(divide(first_number, second_number))\n"
      ],
      "metadata": {
        "id": "MWEAs9q1Uxn3"
      },
      "execution_count": null,
      "outputs": []
    },
    {
      "cell_type": "code",
      "source": [
        "print(10/2)"
      ],
      "metadata": {
        "id": "Rs75IYIFXFE_"
      },
      "execution_count": null,
      "outputs": []
    },
    {
      "cell_type": "code",
      "source": [
        "#What if we enter 0 ???\n",
        "\n",
        "def divide(first_number, second_number):\n",
        "  try:\n",
        "    num1 = int(first_number)\n",
        "    num2 = int(second_number)\n",
        "    return num1 / num2\n",
        "  except ValueError:\n",
        "    return \"Only Integers are allowed! Try again!\"\n",
        "  except ZeroDivisionError:\n",
        "    return \"You cannot divide any number by zero!\"\n",
        "\n",
        "first_number = input(\"number1: \")\n",
        "second_number = input(\"number2: \")\n",
        "print(divide(first_number, second_number))"
      ],
      "metadata": {
        "id": "Pla-uaBkYCGJ"
      },
      "execution_count": null,
      "outputs": []
    },
    {
      "cell_type": "code",
      "source": [
        "def foo(num1, num2):\n",
        "  try:\n",
        "    return num1 + num2 + 0/1\n",
        "  except:\n",
        "    return \"new exception\"\n",
        "\n",
        "print(foo(1, 2))"
      ],
      "metadata": {
        "id": "qp_hgG8Qd5b6"
      },
      "execution_count": null,
      "outputs": []
    },
    {
      "cell_type": "code",
      "source": [],
      "metadata": {
        "id": "mybykXuhfU0Y"
      },
      "execution_count": null,
      "outputs": []
    }
  ]
}